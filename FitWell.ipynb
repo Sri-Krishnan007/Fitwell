{
 "cells": [
  {
   "cell_type": "code",
   "execution_count": null,
   "metadata": {},
   "outputs": [],
   "source": [
    "%pip install pathway transformers streamlit streamlit_autorefresh"
   ]
  },
  {
   "cell_type": "markdown",
   "metadata": {},
   "source": [
    "Data Simulation for Wearables"
   ]
  },
  {
   "cell_type": "code",
   "execution_count": null,
   "metadata": {},
   "outputs": [],
   "source": [
    "import random\n",
    "import time\n",
    "\n",
    "def generate_wearable_data():\n",
    "    while True:\n",
    "        data = {\n",
    "            \"heart_rate\": random.randint(60, 120),\n",
    "            \"steps\": random.randint(0, 10000),\n",
    "            \"calories_burned\": random.uniform(1500, 2500),\n",
    "            \"spo2\": random.randint(90, 100),\n",
    "            \"timestamp\": time.time()\n",
    "        }\n",
    "        yield data\n",
    "        time.sleep(1)  # 1-second interval for data generation\n",
    "\n",
    "# Example usage\n",
    "if __name__ == \"__main__\":\n",
    "    for data in generate_wearable_data():\n",
    "        print(data)\n"
   ]
  },
  {
   "cell_type": "markdown",
   "metadata": {},
   "source": [
    "Real-Time Data Processing with Pathway"
   ]
  },
  {
   "cell_type": "code",
   "execution_count": null,
   "metadata": {},
   "outputs": [],
   "source": [
    "import pathway as pw\n",
    "\n",
    "# Define the schema for data\n",
    "class HealthData(pw.Schema):\n",
    "    heart_rate: int\n",
    "    steps: int\n",
    "    calories_burned: float\n",
    "    spo2: int\n",
    "    timestamp: float\n",
    "\n",
    "# Create a Pathway table to store real-time data\n",
    "health_data_stream = pw.Table[HealthData]()\n",
    "\n",
    "# Normalize heart rate for aggregation\n",
    "normalized_data = health_data_stream.select(\n",
    "    normalized_heart_rate=(health_data_stream.heart_rate - 60) / (120 - 60),\n",
    "    steps=health_data_stream.steps,\n",
    "    calories_burned=health_data_stream.calories_burned,\n",
    "    spo2=health_data_stream.spo2,\n",
    "    timestamp=health_data_stream.timestamp\n",
    ")\n",
    "\n",
    "# Print real-time updates\n",
    "normalized_data.debug()\n"
   ]
  },
  {
   "cell_type": "markdown",
   "metadata": {},
   "source": [
    " RAG Integration for Contextual Recommendations"
   ]
  },
  {
   "cell_type": "code",
   "execution_count": null,
   "metadata": {},
   "outputs": [],
   "source": [
    "from pathway import DocumentStore, VectorStore\n",
    "\n",
    "# Create a document store with health guidelines\n",
    "document_store = DocumentStore.from_documents(\n",
    "    [\n",
    "        {\"id\": 1, \"text\": \"Maintain heart rate below 100 during moderate activity.\"},\n",
    "        {\"id\": 2, \"text\": \"Ensure at least 7000 steps per day for optimal fitness.\"},\n",
    "        {\"id\": 3, \"text\": \"Drink water regularly to stay hydrated.\"},\n",
    "    ]\n",
    ")\n",
    "\n",
    "# Initialize the vector store\n",
    "vector_store = VectorStore(document_store)\n",
    "\n",
    "# Query based on real-time data\n",
    "def recommend_actions(health_data):\n",
    "    query = f\"heart rate: {health_data['heart_rate']}, steps: {health_data['steps']}\"\n",
    "    results = vector_store.query(query)\n",
    "    return results\n",
    "\n",
    "# Example usage\n",
    "health_data = {\"heart_rate\": 110, \"steps\": 5000}\n",
    "recommendations = recommend_actions(health_data)\n",
    "print(recommendations)\n"
   ]
  },
  {
   "cell_type": "markdown",
   "metadata": {},
   "source": [
    " Web Interface Using Streamlit"
   ]
  },
  {
   "cell_type": "code",
   "execution_count": null,
   "metadata": {},
   "outputs": [],
   "source": [
    "import streamlit as st\n",
    "from streamlit_autorefresh import st_autorefresh\n",
    "\n",
    "# Simulated real-time data\n",
    "@st.cache\n",
    "def fetch_data():\n",
    "    return {\"heart_rate\": 85, \"steps\": 4000, \"calories_burned\": 1200, \"spo2\": 95}\n",
    "\n",
    "# Autorefresh every 5 seconds\n",
    "st_autorefresh(interval=5000, key=\"refresh\")\n",
    "\n",
    "data = fetch_data()\n",
    "st.title(\"Real-Time Health Advisory System\")\n",
    "\n",
    "st.metric(\"Heart Rate\", f\"{data['heart_rate']} bpm\")\n",
    "st.metric(\"Steps\", f\"{data['steps']} steps\")\n",
    "st.metric(\"Calories Burned\", f\"{data['calories_burned']} kcal\")\n",
    "st.metric(\"SpO2 Level\", f\"{data['spo2']}%\")\n",
    "\n",
    "st.header(\"Recommendations\")\n",
    "st.write(\"Stay hydrated and take a 5-minute break.\")\n"
   ]
  },
  {
   "cell_type": "markdown",
   "metadata": {},
   "source": [
    "AI Chatbot with Custom Characters"
   ]
  },
  {
   "cell_type": "code",
   "execution_count": null,
   "metadata": {},
   "outputs": [],
   "source": [
    "from transformers import pipeline\n",
    "\n",
    "# Load a conversational model\n",
    "chatbot = pipeline(\"conversational\", model=\"microsoft/DialoGPT-medium\")\n",
    "\n",
    "# AI Chatbot Interaction\n",
    "while True:\n",
    "    user_input = input(\"You: \")\n",
    "    response = chatbot(user_input)\n",
    "    print(f\"Bot: {response}\")\n"
   ]
  },
  {
   "cell_type": "markdown",
   "metadata": {},
   "source": [
    " Doctor Scheduling with Dijkstra’s Algorithm"
   ]
  },
  {
   "cell_type": "code",
   "execution_count": null,
   "metadata": {},
   "outputs": [],
   "source": [
    "import heapq\n",
    "\n",
    "def dijkstra(graph, start):\n",
    "    pq = [(0, start)]\n",
    "    distances = {node: float('inf') for node in graph}\n",
    "    distances[start] = 0\n",
    "\n",
    "    while pq:\n",
    "        current_distance, current_node = heapq.heappop(pq)\n",
    "\n",
    "        if current_distance > distances[current_node]:\n",
    "            continue\n",
    "\n",
    "        for neighbor, weight in graph[current_node].items():\n",
    "            distance = current_distance + weight\n",
    "            if distance < distances[neighbor]:\n",
    "                distances[neighbor] = distance\n",
    "                heapq.heappush(pq, (distance, neighbor))\n",
    "\n",
    "    return distances\n",
    "\n",
    "# Example graph for scheduling\n",
    "graph = {\n",
    "    \"Doctor A\": {\"Doctor B\": 2, \"Doctor C\": 5},\n",
    "    \"Doctor B\": {\"Doctor C\": 3},\n",
    "    \"Doctor C\": {}\n",
    "}\n",
    "\n",
    "print(dijkstra(graph, \"Doctor A\"))\n"
   ]
  },
  {
   "cell_type": "markdown",
   "metadata": {},
   "source": [
    "Motivational Song Selector"
   ]
  },
  {
   "cell_type": "code",
   "execution_count": null,
   "metadata": {},
   "outputs": [],
   "source": [
    "import random\n",
    "\n",
    "songs = {\n",
    "    \"English\": [\"Eye of the Tiger\", \"Don't Stop Believin'\"],\n",
    "    \"Hindi\": [\"Zinda\", \"Chak De! India\"],\n",
    "    \"Tamil\": [\"Verithanam\", \"Survivor\"]\n",
    "}\n",
    "\n",
    "def play_song(language):\n",
    "    if language in songs:\n",
    "        song = random.choice(songs[language])\n",
    "        print(f\"Playing: {song}\")\n",
    "    else:\n",
    "        print(\"No songs available for this language.\")\n",
    "\n",
    "# Example usage\n",
    "play_song(\"English\")\n"
   ]
  }
 ],
 "metadata": {
  "kernelspec": {
   "display_name": "Python 3",
   "language": "python",
   "name": "python3"
  },
  "language_info": {
   "codemirror_mode": {
    "name": "ipython",
    "version": 3
   },
   "file_extension": ".py",
   "mimetype": "text/x-python",
   "name": "python",
   "nbconvert_exporter": "python",
   "pygments_lexer": "ipython3",
   "version": "3.12.8"
  }
 },
 "nbformat": 4,
 "nbformat_minor": 2
}
